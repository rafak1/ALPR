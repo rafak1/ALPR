{
 "cells": [
  {
   "attachments": {},
   "cell_type": "markdown",
   "metadata": {},
   "source": [
    "# ALPR: Automatic License Plate Recognition\n",
    "\n",
    "From the police department to the parking lot, license plate recognition is a technology that has been used for years. It is a computer vision task that involves detecting and recognizing license plates from images or video streams. The goal of this project is to build an ALPR system using OpenCV and Tesseract OCR.\n",
    "\n",
    "<center><img src=\"images/jupyter/speed_camera.jpg\" width=\"400\"/></center>\n",
    "<center><a href=\"https://parkers-images.bauersecure.com/wp-images/176822/gatso_speed_camera.jpg\">Speed Camera</a></center>\n",
    "\n",
    "## Introduction\n",
    "This repository showcases few implementations of ALPR, from using OpenCV to using deep learning models. The goal is to provide a comprehensive understanding of how ALPR works and how it can be implemented in different ways.\n",
    "\n",
    "We split the project into two main parts:\n",
    "1. **License Plate Detection**: This part focuses on detecting the license plate in an image or video stream.\n",
    "2. **OCR (Optical Character Recognition)**: This part focuses on recognizing the characters on the detected license plate.\n",
    "\n",
    "## License Plate Detection\n",
    "\n",
    "### Methods\n",
    "1. **Filtering**: Using image processing techniques to filter out the license plate from the rest of the image. This includes techniques like edge detection, contour detection, and morphological operations.\n",
    "\n",
    "2. **YOLOv5**: Using the YOLOv5 deep learning model to detect the license plate in an image. It is a state-of-the-art object detection model that is fast and accurate.\n",
    "\n",
    "### Filtering"
   ]
  },
  {
   "cell_type": "code",
   "execution_count": null,
   "metadata": {},
   "outputs": [],
   "source": []
  }
 ],
 "metadata": {
  "kernelspec": {
   "display_name": "Python 3",
   "language": "python",
   "name": "python3"
  },
  "language_info": {
   "name": "python",
   "version": "3.10.11 (tags/v3.10.11:7d4cc5a, Apr  5 2023, 00:38:17) [MSC v.1929 64 bit (AMD64)]"
  },
  "vscode": {
   "interpreter": {
    "hash": "ac52db5b7a1672a753044af60012f9c470454ae26fadd2fc5a10893ed4e37f7b"
   }
  }
 },
 "nbformat": 4,
 "nbformat_minor": 2
}
